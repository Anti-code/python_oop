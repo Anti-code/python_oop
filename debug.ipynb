{
 "cells": [
  {
   "cell_type": "code",
   "execution_count": 112,
   "metadata": {
    "collapsed": false
   },
   "outputs": [],
   "source": [
    "\"\"\"\n",
    "    # log - çalıştırılan fonksiyonun adı çalıştırıldığı tarih ve çalışma zamanını.\n",
    "    \n",
    "\"\"\";"
   ]
  },
  {
   "cell_type": "code",
   "execution_count": 141,
   "metadata": {
    "collapsed": true
   },
   "outputs": [],
   "source": [
    "import datetime, timeit\n",
    "from functools import wraps"
   ]
  },
  {
   "cell_type": "code",
   "execution_count": 171,
   "metadata": {
    "collapsed": true
   },
   "outputs": [],
   "source": [
    "# decorator - belirlenen fonksiyona yeni özellikler katar\n",
    "def log(prefix=None):\n",
    "    \n",
    "    def decorator(func):\n",
    "        # func loglanacak fonksiyon\n",
    "        @wraps(func)\n",
    "        def wrapper(*args, **kwargs): # sarmalayıcı/sahte fonksiyon\n",
    "            start = timeit.timeit()\n",
    "            try:\n",
    "                return func(*args, **kwargs)\n",
    "            finally:\n",
    "                stop = timeit.timeit()\n",
    "                print(\"{} {} fonksiyonu {} tarihinde çalıştırıldı ve {}sn sürdü.\".format(\n",
    "                    prefix,\n",
    "                    func.__qualname__, \n",
    "                    datetime.date.today(), \n",
    "                    start- stop\n",
    "                    ))\n",
    "        return wrapper\n",
    "    return decorator"
   ]
  },
  {
   "cell_type": "code",
   "execution_count": null,
   "metadata": {
    "collapsed": true
   },
   "outputs": [],
   "source": [
    "# class decorator\n"
   ]
  },
  {
   "cell_type": "code",
   "execution_count": 172,
   "metadata": {
    "collapsed": false
   },
   "outputs": [],
   "source": [
    "class Calculator:\n",
    "    \n",
    "    @log(prefix =\"***\")\n",
    "    def add(self, x, y):\n",
    "        return x + y\n",
    "\n",
    "    @log\n",
    "    def sub(self, x, y):\n",
    "        return x - y\n",
    "    \n",
    "    @log\n",
    "    def mul(self, x, y):\n",
    "        return x * y\n",
    "    \n",
    "    @log\n",
    "    def div(self, x, y):\n",
    "        return x // y\n"
   ]
  },
  {
   "cell_type": "code",
   "execution_count": 173,
   "metadata": {
    "collapsed": false
   },
   "outputs": [],
   "source": [
    "c = Calculator()"
   ]
  },
  {
   "cell_type": "code",
   "execution_count": 174,
   "metadata": {
    "collapsed": false
   },
   "outputs": [
    {
     "name": "stdout",
     "output_type": "stream",
     "text": [
      "*** Calculator.add fonksiyonu 2016-10-15 tarihinde çalıştırıldı ve 0.024411572005192284sn sürdü.\n"
     ]
    },
    {
     "data": {
      "text/plain": [
       "11"
      ]
     },
     "execution_count": 174,
     "metadata": {},
     "output_type": "execute_result"
    }
   ],
   "source": [
    "c.add(5,6)"
   ]
  },
  {
   "cell_type": "code",
   "execution_count": null,
   "metadata": {
    "collapsed": true
   },
   "outputs": [],
   "source": []
  }
 ],
 "metadata": {
  "kernelspec": {
   "display_name": "Python 3",
   "language": "python",
   "name": "python3"
  },
  "language_info": {
   "codemirror_mode": {
    "name": "ipython",
    "version": 3
   },
   "file_extension": ".py",
   "mimetype": "text/x-python",
   "name": "python",
   "nbconvert_exporter": "python",
   "pygments_lexer": "ipython3",
   "version": "3.5.2"
  }
 },
 "nbformat": 4,
 "nbformat_minor": 1
}

{
 "cells": [
  {
   "cell_type": "code",
   "execution_count": 221,
   "metadata": {
    "collapsed": false
   },
   "outputs": [],
   "source": [
    "# type"
   ]
  },
  {
   "cell_type": "code",
   "execution_count": 351,
   "metadata": {
    "collapsed": false
   },
   "outputs": [],
   "source": [
    "from functools import wraps, partial\n",
    "import datetime, time\n",
    "from timeit import default_timer as timer\n"
   ]
  },
  {
   "cell_type": "code",
   "execution_count": 352,
   "metadata": {
    "collapsed": false
   },
   "outputs": [],
   "source": [
    "# decorator that prints the time when decorated method called\n",
    "def debug(func=None, *, param=''):\n",
    "    if func is None:return partial(debug, param=param)\n",
    "    t = time.clock()\n",
    "    @wraps(func)\n",
    "    def wrapper(*args, **kwargs):\n",
    "        try:\n",
    "            return func(*args, **kwargs)\n",
    "        except Exception:\n",
    "            raise Exception()\n",
    "        finally:\n",
    "            print(\"Function {}{}{} called at {} and took {} seconds to execute.\".format(param,\n",
    "                                                                          func.__qualname__,\n",
    "                                                                          param,\n",
    "                                                                          datetime.date.today()\n",
    "                                                                          ,time.clock() - t))\n",
    "    \n",
    "    return wrapper\n",
    "    \n",
    "# class debugger\n",
    "def clsdebug(cls):\n",
    "    for key, val in vars(cls).items():\n",
    "        if callable(val):\n",
    "            setattr(cls, key, debug(val, param=\"\\'\"))\n",
    "    return cls"
   ]
  },
  {
   "cell_type": "code",
   "execution_count": 353,
   "metadata": {
    "collapsed": false
   },
   "outputs": [],
   "source": [
    "class generic_type(type):\n",
    "    def __new__(cls, clsname, parents, clsdict):\n",
    "        #print(\"Infected\")\n",
    "        #if len(parents)>1:raise TypeError(\"No\")\n",
    "        clsobj = super().__new__(cls, clsname, parents, clsdict)\n",
    "        clsobj = clsdebug(clsobj)\n",
    "        return clsobj"
   ]
  },
  {
   "cell_type": "code",
   "execution_count": 354,
   "metadata": {
    "collapsed": false
   },
   "outputs": [],
   "source": [
    "#@clsdebug\n",
    "class Base(metaclass=generic_type):\n",
    "    def a(self):\n",
    "        pass"
   ]
  },
  {
   "cell_type": "code",
   "execution_count": 355,
   "metadata": {
    "collapsed": false
   },
   "outputs": [],
   "source": [
    "class A(Base):\n",
    "    def a(self):\n",
    "        super().a()"
   ]
  },
  {
   "cell_type": "code",
   "execution_count": 356,
   "metadata": {
    "collapsed": false
   },
   "outputs": [],
   "source": [
    "class B(Base):\n",
    "    pass"
   ]
  },
  {
   "cell_type": "code",
   "execution_count": 357,
   "metadata": {
    "collapsed": false
   },
   "outputs": [],
   "source": [
    "class C(A,B):\n",
    "    def a(self):\n",
    "        super().a()"
   ]
  },
  {
   "cell_type": "code",
   "execution_count": 358,
   "metadata": {
    "collapsed": true
   },
   "outputs": [],
   "source": [
    "a = A(); b=Base()"
   ]
  },
  {
   "cell_type": "code",
   "execution_count": 359,
   "metadata": {
    "collapsed": false
   },
   "outputs": [
    {
     "name": "stdout",
     "output_type": "stream",
     "text": [
      "Function 'Base.a' called at 2016-10-12 and took 0.0723249999999993 seconds to execute.\n",
      "Function 'A.a' called at 2016-10-12 and took 0.05034900000000064 seconds to execute.\n"
     ]
    }
   ],
   "source": [
    "a.a()"
   ]
  },
  {
   "cell_type": "code",
   "execution_count": 360,
   "metadata": {
    "collapsed": false
   },
   "outputs": [
    {
     "name": "stdout",
     "output_type": "stream",
     "text": [
      "Function 'Base.a' called at 2016-10-12 and took 0.08649599999999857 seconds to execute.\n"
     ]
    }
   ],
   "source": [
    "b.a()"
   ]
  },
  {
   "cell_type": "code",
   "execution_count": 361,
   "metadata": {
    "collapsed": false
   },
   "outputs": [],
   "source": [
    "c = C()"
   ]
  },
  {
   "cell_type": "code",
   "execution_count": 362,
   "metadata": {
    "collapsed": false
   },
   "outputs": [
    {
     "name": "stdout",
     "output_type": "stream",
     "text": [
      "Function 'Base.a' called at 2016-10-12 and took 0.11244299999999896 seconds to execute.\n",
      "Function 'A.a' called at 2016-10-12 and took 0.09052900000000008 seconds to execute.\n",
      "Function 'C.a' called at 2016-10-12 and took 0.06486600000000031 seconds to execute.\n"
     ]
    }
   ],
   "source": [
    "c.a()"
   ]
  },
  {
   "cell_type": "code",
   "execution_count": null,
   "metadata": {
    "collapsed": false
   },
   "outputs": [],
   "source": []
  },
  {
   "cell_type": "code",
   "execution_count": null,
   "metadata": {
    "collapsed": true
   },
   "outputs": [],
   "source": []
  },
  {
   "cell_type": "code",
   "execution_count": null,
   "metadata": {
    "collapsed": true
   },
   "outputs": [],
   "source": []
  }
 ],
 "metadata": {
  "kernelspec": {
   "display_name": "Python 3",
   "language": "python",
   "name": "python3"
  },
  "language_info": {
   "codemirror_mode": {
    "name": "ipython",
    "version": 3
   },
   "file_extension": ".py",
   "mimetype": "text/x-python",
   "name": "python",
   "nbconvert_exporter": "python",
   "pygments_lexer": "ipython3",
   "version": "3.5.2"
  }
 },
 "nbformat": 4,
 "nbformat_minor": 1
}

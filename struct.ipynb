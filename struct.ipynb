{
 "cells": [
  {
   "cell_type": "code",
   "execution_count": 209,
   "metadata": {
    "collapsed": false
   },
   "outputs": [
    {
     "name": "stdout",
     "output_type": "stream",
     "text": [
      "{'name': 'mehmet', 'age': 16, 'email': '@gmail.com'}\n"
     ]
    }
   ],
   "source": [
    " # kod tekrarını önleyen basit bir yöntem\n",
    "class Structure:\n",
    "    _fields = []\n",
    "    \n",
    "    def __init__(self, *args):\n",
    "        for name, value in zip(self.__class__._fields, args):\n",
    "            setattr(self, name, value)\n",
    "\n",
    "class Point(Structure):\n",
    "    _fields = ['x', 'y']\n",
    "\n",
    "class User(Structure):\n",
    "    _fields = ['name', 'age', 'email']\n",
    "\n",
    "u = User('mehmet', 16, '@gmail.com'); print(u.__dict__)\n"
   ]
  },
  {
   "cell_type": "code",
   "execution_count": null,
   "metadata": {
    "collapsed": true
   },
   "outputs": [],
   "source": []
  },
  {
   "cell_type": "code",
   "execution_count": null,
   "metadata": {
    "collapsed": true
   },
   "outputs": [],
   "source": []
  },
  {
   "cell_type": "code",
   "execution_count": 118,
   "metadata": {
    "collapsed": true
   },
   "outputs": [],
   "source": []
  },
  {
   "cell_type": "code",
   "execution_count": 208,
   "metadata": {
    "collapsed": false
   },
   "outputs": [
    {
     "name": "stdout",
     "output_type": "stream",
     "text": [
      "name ali\n",
      "age 16\n"
     ]
    }
   ],
   "source": [
    "from inspect import Signature, Parameter\n",
    "\n",
    "sig = Signature(Parameter(pname, Parameter.POSITIONAL_OR_KEYWORD) for pname in ['name', 'age'])\n",
    "def foo(*args, **kwargs):\n",
    "    bound = sig.bind(*args, **kwargs)\n",
    "    for k,w in bound.arguments.items():\n",
    "        print(k,w)\n",
    "foo('ali', 16)\n"
   ]
  },
  {
   "cell_type": "code",
   "execution_count": null,
   "metadata": {
    "collapsed": true
   },
   "outputs": [],
   "source": []
  },
  {
   "cell_type": "code",
   "execution_count": 148,
   "metadata": {
    "collapsed": true
   },
   "outputs": [],
   "source": [
    "def make_signature(names):\n",
    "    return Signature(Parameter(name, Parameter.POSITIONAL_OR_KEYWORD) for name in names)"
   ]
  },
  {
   "cell_type": "code",
   "execution_count": 149,
   "metadata": {
    "collapsed": true
   },
   "outputs": [],
   "source": [
    "#decorator solution\n",
    "def add_sign(*fnames):\n",
    "    def decorate(cls):\n",
    "        cls.__signiture__ = make_signature\n",
    "        return cls\n",
    "    return decorate"
   ]
  },
  {
   "cell_type": "code",
   "execution_count": 150,
   "metadata": {
    "collapsed": true
   },
   "outputs": [],
   "source": [
    "# metaclass solution\n",
    "class struct_meta(type):\n",
    "    def __new__(cls, name, bases, clsdict):\n",
    "        clsobj = super().__new__(cls, name, bases, clsdict)\n",
    "        sign = make_signature(clsobj._fields)\n",
    "        setattr(clsobj, '__signature__', sign)\n",
    "        return clsobj"
   ]
  },
  {
   "cell_type": "code",
   "execution_count": null,
   "metadata": {
    "collapsed": true
   },
   "outputs": [],
   "source": []
  },
  {
   "cell_type": "code",
   "execution_count": 151,
   "metadata": {
    "collapsed": false
   },
   "outputs": [],
   "source": [
    "class Structure(metaclass=struct_meta):\n",
    "    _fields = []\n",
    "    def __init__(self, *args, **kwargs):\n",
    "        bound = self.__signature__.bind(*args, **kwargs)\n",
    "        for name, value in bound.arguments.items():\n",
    "            setattr(self, name, value)"
   ]
  },
  {
   "cell_type": "code",
   "execution_count": 156,
   "metadata": {
    "collapsed": false
   },
   "outputs": [],
   "source": [
    "class Point(Structure):\n",
    "    _fields = ['x', 'y']\n",
    "\n",
    "class User(Structure):\n",
    "    _fields = ['name', 'passwd', 'email']\n",
    "    def hi(self):\n",
    "        locals()"
   ]
  },
  {
   "cell_type": "code",
   "execution_count": 157,
   "metadata": {
    "collapsed": false
   },
   "outputs": [],
   "source": [
    "u = User('mehmet', 'asda', '@gmail')"
   ]
  },
  {
   "cell_type": "code",
   "execution_count": null,
   "metadata": {
    "collapsed": false
   },
   "outputs": [],
   "source": []
  },
  {
   "cell_type": "code",
   "execution_count": 189,
   "metadata": {
    "collapsed": false
   },
   "outputs": [],
   "source": [
    "class Descriptor:\n",
    "    \n",
    "    def __init__(self, name=None):\n",
    "        self.name = name\n",
    "    \n",
    "    def __set__(self, instance, value):\n",
    "        print('Set', self.name, value)\n",
    "        instance.__dict__[self.name] = value\n",
    "    \n",
    "    def __delete__(self, instance):\n",
    "        print('Delete', self.name)\n",
    "        del instance.__dict__[self.name]"
   ]
  },
  {
   "cell_type": "code",
   "execution_count": 190,
   "metadata": {
    "collapsed": true
   },
   "outputs": [],
   "source": [
    "class User(Structure):\n",
    "    _fields = ['name', 'age', 'email']\n",
    "    \n",
    "    name = Descriptor('name')\n",
    "    age"
   ]
  },
  {
   "cell_type": "code",
   "execution_count": 191,
   "metadata": {
    "collapsed": false
   },
   "outputs": [
    {
     "name": "stdout",
     "output_type": "stream",
     "text": [
      "Set name mehmet\n"
     ]
    }
   ],
   "source": [
    "u = User('mehmet', 23, '@gmail.com')"
   ]
  },
  {
   "cell_type": "code",
   "execution_count": null,
   "metadata": {
    "collapsed": false
   },
   "outputs": [],
   "source": []
  },
  {
   "cell_type": "code",
   "execution_count": 194,
   "metadata": {
    "collapsed": false
   },
   "outputs": [],
   "source": [
    "class Typed(Descriptor):\n",
    "    ty = object\n",
    "    def __set__(self, instance, value):\n",
    "        if not isinstance(value, self.ty):\n",
    "            raise TypeError('Expected {}'.format(self.ty))\n",
    "        return super().__set__(instance, value)"
   ]
  },
  {
   "cell_type": "code",
   "execution_count": 196,
   "metadata": {
    "collapsed": true
   },
   "outputs": [],
   "source": [
    "class Integer(Typed): ty = int\n",
    "class String(Typed): ty = str\n",
    "class Float(Typed): ty = float"
   ]
  },
  {
   "cell_type": "code",
   "execution_count": null,
   "metadata": {
    "collapsed": true
   },
   "outputs": [],
   "source": []
  },
  {
   "cell_type": "code",
   "execution_count": 197,
   "metadata": {
    "collapsed": true
   },
   "outputs": [],
   "source": [
    "class User(Structure):\n",
    "    _fields = ['name', 'age', 'weight']\n",
    "    \n",
    "    name = String()\n",
    "    age = Integer()\n",
    "    weight = Float()"
   ]
  },
  {
   "cell_type": "code",
   "execution_count": 207,
   "metadata": {
    "collapsed": false
   },
   "outputs": [
    {
     "name": "stdout",
     "output_type": "stream",
     "text": [
      "Set None mehmet\n",
      "Set None 19\n",
      "Set None 72.4\n"
     ]
    }
   ],
   "source": [
    "u = User('mehmet', 19, 72.4);\n"
   ]
  },
  {
   "cell_type": "code",
   "execution_count": 210,
   "metadata": {
    "collapsed": false
   },
   "outputs": [
    {
     "data": {
      "text/plain": [
       "'/home/fool/hobbies/metaprogramming'"
      ]
     },
     "execution_count": 210,
     "metadata": {},
     "output_type": "execute_result"
    }
   ],
   "source": [
    "%pwd"
   ]
  },
  {
   "cell_type": "code",
   "execution_count": null,
   "metadata": {
    "collapsed": true
   },
   "outputs": [],
   "source": []
  }
 ],
 "metadata": {
  "kernelspec": {
   "display_name": "Python 3",
   "language": "python",
   "name": "python3"
  },
  "language_info": {
   "codemirror_mode": {
    "name": "ipython",
    "version": 3
   },
   "file_extension": ".py",
   "mimetype": "text/x-python",
   "name": "python",
   "nbconvert_exporter": "python",
   "pygments_lexer": "ipython3",
   "version": "3.5.2"
  }
 },
 "nbformat": 4,
 "nbformat_minor": 1
}
